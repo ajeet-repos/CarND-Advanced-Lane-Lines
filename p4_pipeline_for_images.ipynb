{
 "cells": [
  {
   "cell_type": "code",
   "execution_count": 3,
   "metadata": {
    "collapsed": true
   },
   "outputs": [],
   "source": [
    "# importing libraries\n",
    "import cv2\n",
    "import numpy as np\n",
    "import matplotlib as mp\n",
    "import matplotlib.image as mpimg\n",
    "import matplotlib.pyplot as plt\n",
    "import glob\n",
    "import pickle\n",
    "from matplotlib.path import Path\n",
    "import matplotlib.patches as patches"
   ]
  },
  {
   "cell_type": "markdown",
   "metadata": {},
   "source": [
    "### Camera Calibration Data"
   ]
  },
  {
   "cell_type": "code",
   "execution_count": 10,
   "metadata": {
    "collapsed": true
   },
   "outputs": [],
   "source": [
    "# following cells will have methods required for this project\n",
    "# load object and image points saved after camera calibration done using chessboard images\n",
    "obj_points = []\n",
    "img_points = []\n",
    "with open('obj_img_points.pickle', 'rb') as handle:\n",
    "    a = pickle.load(handle)\n",
    "    obj_points = a['objpoints']\n",
    "    img_points = a['imgpoints']"
   ]
  },
  {
   "cell_type": "markdown",
   "metadata": {},
   "source": [
    "## Helper Methods\n",
    "\n",
    "This section include methods for sobel and all other action required"
   ]
  },
  {
   "cell_type": "code",
   "execution_count": 4,
   "metadata": {
    "collapsed": true
   },
   "outputs": [],
   "source": [
    "# appliying direction gradient on the image in x-axis\n",
    "def performSobelX(image, sobel_kernal=3):\n",
    "    gray = cv2.cvtColor(image, cv2.COLOR_RGB2GRAY)\n",
    "    return cv2.Sobel(gray, cv2.CV_64F, 1, 0, ksize=sobel_kernal)\n",
    "    \n",
    "# appliying direction gradient on the image in y-axis\n",
    "def performSobelY(image, sobel_kernal=3):\n",
    "    gray = cv2.cvtColor(image, cv2.COLOR_RGB2GRAY)\n",
    "    return cv2.Sobel(gray, cv2.CV_64F, 0, 1, ksize=sobel_kernal)"
   ]
  },
  {
   "cell_type": "code",
   "execution_count": 6,
   "metadata": {
    "collapsed": true
   },
   "outputs": [],
   "source": [
    "# applying the threshold on directional gradient\n",
    "def performSobelGradientThreshold(image, axis='x', sobel_kernal=3, min_thresh=10, max_thresh=100):\n",
    "    \n",
    "    if axis is 'x':\n",
    "        abs_sobel = np.absolute(performSobelX(image, sobel_kernal))\n",
    "    else:\n",
    "        abs_sobel = np.absolute(performSobelY(image, sobel_kernal))\n",
    "    \n",
    "    scaled_sobel = np.uint8(255*abs_sobel/np.max(abs_sobel))\n",
    "    \n",
    "    s_binary = np.zeros_like(scaled_sobel)\n",
    "    s_binary[(scaled_sobel >= min_thresh) & (scaled_sobel < max_thresh)] = 1\n",
    "    \n",
    "    return s_binary"
   ]
  },
  {
   "cell_type": "code",
   "execution_count": 5,
   "metadata": {
    "collapsed": true
   },
   "outputs": [],
   "source": [
    "# applying the threshold on the magnitude of the gradient\n",
    "def performGradientMagnitudeThreshold(image, axis='x', sobel_kernal=3, mag_thresh=(0,255)):\n",
    "\n",
    "    gradmag = None\n",
    "    if axis is 'x':\n",
    "        sobelx = performSobelX(image, sobel_kernal)\n",
    "        gradmag = np.sqrt(sobelx**2)\n",
    "    elif axis is 'y':\n",
    "        sobely = performSobelY(image, sobel_kernal)\n",
    "        gradmag = np.sqrt(sobely**2)\n",
    "    elif axis is 'xy':\n",
    "        sobelx = performSobelX(image)\n",
    "        sobely = performSobelY(image)\n",
    "        gradmag = np.sqrt(sobelx**2 + sobely**2)\n",
    "    else:\n",
    "        return null\n",
    "    \n",
    "    # Rescale to 8 bit\n",
    "    scale_factor = np.max(gradmag)/255 \n",
    "    gradmag = (gradmag/scale_factor).astype(np.uint8) \n",
    "    # Create a binary image of ones where threshold is met, zeros otherwise\n",
    "    binary_output = np.zeros_like(gradmag)\n",
    "    binary_output[(gradmag >= mag_thresh[0]) & (gradmag <= mag_thresh[1])] = 1\n",
    "    return binary_output\n",
    "    \n",
    "# applying threshold on the direction of the gradient\n",
    "def performGradientDirectionThreshold(image, sobel_kernal=3, dir_thresh=(0, np.pi/2)):\n",
    "    \n",
    "    sobelx = performSobelX(image, sobel_kernal)\n",
    "    sobley = performSobelY(image, sobel_kernal)\n",
    "    \n",
    "    absgraddir = np.arctan(np.absolute(sobely), np.absolute(sobelx))\n",
    "    binary_img = np.zeros_like(absgraddir)\n",
    "    binary_img[(absgraddir >= dir_thresh[0]) & (absgraddir < dir_thresh[1])] = 1\n",
    "    \n",
    "    return binary_img"
   ]
  },
  {
   "cell_type": "code",
   "execution_count": 7,
   "metadata": {
    "collapsed": true
   },
   "outputs": [],
   "source": [
    "# ploting two image side by side\n",
    "def plot_images(img1, img2, title1, title2):\n",
    "    plt.clf()\n",
    "    f, (ax1, ax2) = plt.subplots(1, 2, figsize=(24, 9))\n",
    "    f.tight_layout()\n",
    "    ax1.imshow(img1, cmap='gray')\n",
    "    ax1.set_title(title1, fontsize=50)\n",
    "    ax2.imshow(img2, cmap='gray')\n",
    "    ax2.set_title(title2, fontsize=50)\n",
    "    plt.subplots_adjust(left=0., right=1, top=0.9, bottom=0.)\n",
    "    plt.show()"
   ]
  },
  {
   "cell_type": "code",
   "execution_count": 8,
   "metadata": {
    "collapsed": true
   },
   "outputs": [],
   "source": [
    "# method to return the s-channel binary for given images\n",
    "def hls_threshold(image, thresh=(0,255)):\n",
    "    hls_img = cv2.cvtColor(image, cv2.COLOR_RGB2HLS)\n",
    "    s = hls_img[:,:,2]\n",
    "    output = np.zeros_like(s)\n",
    "    output[(s > thresh[0]) & (s <= thresh[1])] = 1\n",
    "    return output"
   ]
  },
  {
   "cell_type": "code",
   "execution_count": 9,
   "metadata": {
    "collapsed": true
   },
   "outputs": [],
   "source": [
    "def cal_undistort(orig_img, objpoints, imgpoints):\n",
    "    gray_img = cv2.cvtColor(orig_img, cv2.COLOR_RGB2GRAY)\n",
    "    ret, mtx, dist, rvecs, tvecs = cv2.calibrateCamera(objpoints, imgpoints, gray_img.shape[::-1], None, None)\n",
    "    undist = cv2.undistort(orig_img, mtx, dist, None, mtx)\n",
    "    return undist"
   ]
  },
  {
   "cell_type": "code",
   "execution_count": null,
   "metadata": {
    "collapsed": true
   },
   "outputs": [],
   "source": [
    "# this method will take the lane image and return the image with lane area, curvature and offset from center marked\n",
    "def findAndPlotLaneLines(image):\n",
    "    # 1. undistort the images\n",
    "    # 2. color thresholding with s-channel\n",
    "    # 3. perform various thresholding on the image\n",
    "    # 3.a. sobelx thresholding\n",
    "    # 3.b. gradient magnitude thresholding\n",
    "    # 3.c. gradient direction thresholding\n",
    "    # 4. create a combined binary of all above thresholding\n",
    "    # 5. perform perspective transform\n",
    "    # 6. increase the hot points in the image\n",
    "    # 7. perform sliding windows search algorithm for finding lane lines and fitting a polygon\n",
    "    # 8. mark the area of lane lines\n",
    "    # 9. undistort the image back to starting perspective and return\n",
    "    return null"
   ]
  }
 ],
 "metadata": {
  "kernelspec": {
   "display_name": "Python [default]",
   "language": "python",
   "name": "python3"
  },
  "language_info": {
   "codemirror_mode": {
    "name": "ipython",
    "version": 3
   },
   "file_extension": ".py",
   "mimetype": "text/x-python",
   "name": "python",
   "nbconvert_exporter": "python",
   "pygments_lexer": "ipython3",
   "version": "3.5.2"
  }
 },
 "nbformat": 4,
 "nbformat_minor": 1
}
