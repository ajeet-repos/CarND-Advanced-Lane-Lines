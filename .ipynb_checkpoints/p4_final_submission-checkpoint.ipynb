{
 "cells": [
  {
   "cell_type": "markdown",
   "metadata": {},
   "source": [
    "# Write up for P4 - \"Advance Lane Finding Project\""
   ]
  },
  {
   "cell_type": "markdown",
   "metadata": {},
   "source": [
    "### All required library imports required for this project"
   ]
  },
  {
   "cell_type": "code",
   "execution_count": 1,
   "metadata": {
    "collapsed": true
   },
   "outputs": [],
   "source": [
    "import cv2\n",
    "import numpy as np\n",
    "import matplotlib as mp\n",
    "import matplotlib.image as mpimg\n",
    "import matplotlib.pyplot as plt\n",
    "import glob\n",
    "\n",
    "from random import randint"
   ]
  },
  {
   "cell_type": "markdown",
   "metadata": {},
   "source": [
    "## Camera Calibration\n",
    "\n",
    "As mentioned in the project that the camera that is used to create the video and capture the images are diffrent as compared to what have been used in the lessons, therefore, I need new camera coefficients to handle the test images and finally the project videos.\n",
    "\n",
    "To calculate the required variables for camera calibration, object poinrts and image points I used the chessboard images provided in the project repository.\n",
    "\n",
    "The whole process can be listed down to following steps as brilliantly explained in the lesssons:\n",
    "1. load the chessboard images\n",
    "2. find corners inside the chessboard images by giving the number of vertical and horizontal corners\n",
    "2.a. using the corner found in all the chessboard images I create the two lists - image points i.e corner apprearing the image and objects points, where the points should be.\n",
    "3. once the object and image points are calculated and appended to the list same was used to calibrate the camera.\n",
    "4. With the camera being calibrated, \"undistort()\" method was called with the required coefficients returned and saved for earlier steps\n",
    "5. Just to check whether the undistortion worked I transformed the image with perspectiveTransform() and asserted wether all chessboard corner are painted correctly or not\n",
    "\n",
    "Following code cells implement the above described steps:"
   ]
  },
  {
   "cell_type": "code",
   "execution_count": 3,
   "metadata": {
    "collapsed": true
   },
   "outputs": [],
   "source": [
    "def plotThreeImagesInRow(image1, image2, image3, title1, title2, title3):\n",
    "    plt.clf() # clear any previous saved data\n",
    "    \n",
    "    # creating layout to place three image sided-by-side with their respective title\n",
    "    f, (ax1, ax2, ax3) = plt.subplots(1, 2, 3, figsize=(24, 9))\n",
    "    f.tight_layout()\n",
    "    ax1.imshow(image1, cmap='gray')\n",
    "    ax1.set_title(title1, fontsize=50)\n",
    "    ax2.imshow(image2, cmap='gray')\n",
    "    ax2.set_title(title2, fontsize=50)\n",
    "    ax3.imshow(image3, cmap='gray')\n",
    "    ax3.set_title(title3)\n",
    "    plt.subplots_adjust(left=0., right=1, top=0.9, bottom=0.)\n",
    "    plt.show()"
   ]
  },
  {
   "cell_type": "code",
   "execution_count": 6,
   "metadata": {
    "collapsed": true
   },
   "outputs": [],
   "source": [
    "# load all the chessboard images in memory\n",
    "imageset = glob.glob('camera_cal\\\\calibration*.jpg')\n",
    "nx = 9 # no of columns\n",
    "ny = 6 # no of rows"
   ]
  },
  {
   "cell_type": "code",
   "execution_count": null,
   "metadata": {
    "collapsed": true
   },
   "outputs": [],
   "source": [
    "# process each chessboar image one by one and create the list for object_points and image_points\n",
    "object_points = []\n",
    "image_points = []\n",
    "\n",
    "#preping the obejct points to be added to the list\n",
    "for fname in imageset:\n",
    "    "
   ]
  }
 ],
 "metadata": {
  "kernelspec": {
   "display_name": "Python [default]",
   "language": "python",
   "name": "python3"
  },
  "language_info": {
   "codemirror_mode": {
    "name": "ipython",
    "version": 3
   },
   "file_extension": ".py",
   "mimetype": "text/x-python",
   "name": "python",
   "nbconvert_exporter": "python",
   "pygments_lexer": "ipython3",
   "version": "3.5.2"
  }
 },
 "nbformat": 4,
 "nbformat_minor": 1
}
