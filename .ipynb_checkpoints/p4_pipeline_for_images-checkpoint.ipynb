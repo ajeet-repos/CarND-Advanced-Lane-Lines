{
 "cells": [
  {
   "cell_type": "code",
   "execution_count": 1,
   "metadata": {
    "collapsed": true
   },
   "outputs": [],
   "source": [
    "# importing libraries"
   ]
  },
  {
   "cell_type": "code",
   "execution_count": 2,
   "metadata": {
    "collapsed": true
   },
   "outputs": [],
   "source": [
    "# following cells will have methods required for this project\n",
    "# load object and image points saved after camera calibration done using chessboard images"
   ]
  },
  {
   "cell_type": "code",
   "execution_count": null,
   "metadata": {
    "collapsed": true
   },
   "outputs": [],
   "source": [
    "# this method will take the lane image and return the image with lane area, curvature and offset from center marked\n",
    "def findAndPlotLaneLines(image):\n",
    "    # 1. undistort the images\n",
    "    # 2. color thresholding with s-channel\n",
    "    # 3. perform various thresholding on the image\n",
    "    # 3.a. sobelx thresholding\n",
    "    # 3.b. gradient magnitude thresholding\n",
    "    # 3.c. gradient direction thresholding\n",
    "    # 4. create a combined binary of all above thresholding\n",
    "    # 5. perform perspective transform\n",
    "    # 6. increase the hot points in the image\n",
    "    # 7. perform sliding windows search algorithm for finding lane lines and fitting a polygon\n",
    "    # 8. mark the area of lane lines\n",
    "    # 9. undistort the image back to starting perspective and return\n",
    "    return null"
   ]
  }
 ],
 "metadata": {
  "kernelspec": {
   "display_name": "Python [default]",
   "language": "python",
   "name": "python3"
  },
  "language_info": {
   "codemirror_mode": {
    "name": "ipython",
    "version": 3
   },
   "file_extension": ".py",
   "mimetype": "text/x-python",
   "name": "python",
   "nbconvert_exporter": "python",
   "pygments_lexer": "ipython3",
   "version": "3.5.2"
  }
 },
 "nbformat": 4,
 "nbformat_minor": 1
}
